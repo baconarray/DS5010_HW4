{
 "cells": [
  {
   "cell_type": "markdown",
   "id": "e7d0259c",
   "metadata": {},
   "source": [
    "Tyler Beaulieu  \n",
    "DS5010, Fall 2024   \n",
    "October 10, 2024  \n",
    "\n",
    "<h4 style=\"text-align:center;\">Homework 4</h4>"
   ]
  },
  {
   "cell_type": "code",
   "execution_count": 1,
   "id": "d89f88b9",
   "metadata": {},
   "outputs": [],
   "source": [
    "import numpy as np\n",
    "import pandas as pd"
   ]
  },
  {
   "cell_type": "markdown",
   "id": "eac8c5e4",
   "metadata": {},
   "source": [
    "<div class=\"alert alert-block alert-info\">\n",
    "    <b><p style=\"font-size: XX-large\">Problem 1: Creating Data Series and DataFrame</p></b> </div>"
   ]
  },
  {
   "cell_type": "markdown",
   "id": "26e40e98",
   "metadata": {},
   "source": [
    "\n",
    "Use the functions in the lecture notes or mentioned in hints. **Each step in problem 1 should have no more than three lines of code.**\n",
    "\n",
    "1. (4 pt) Create a List containing 5 string objects.\\\n",
    "For example: string_list = [\"String1\", \"String2\", \"String3\", \"String4\", \"String5\"]\\\n",
    "Convert the list to a Data Series object. "
   ]
  },
  {
   "cell_type": "code",
   "execution_count": 2,
   "id": "6b6b9420",
   "metadata": {},
   "outputs": [
    {
     "data": {
      "text/plain": [
       "0          This is a string\n",
       "1     This is also a string\n",
       "2        Yet another string\n",
       "3    Hey look, more strings\n",
       "4          wow, string, wow\n",
       "dtype: object"
      ]
     },
     "execution_count": 2,
     "metadata": {},
     "output_type": "execute_result"
    }
   ],
   "source": [
    "string_theory = [\"This is a string\", \"This is also a string\", \"Yet another string\", \"Hey look, more strings\", \"wow, string, wow\"]\n",
    "string_theory = pd.Series(string_theory)\n",
    "string_theory"
   ]
  },
  {
   "cell_type": "markdown",
   "id": "c78d3a99",
   "metadata": {},
   "source": [
    "2. (4 pt) Create a numpy array containing 5 random integers ranging from 0 and 100 inclusively and convert it to a Data Series object. "
   ]
  },
  {
   "cell_type": "code",
   "execution_count": 3,
   "id": "fbcd1904",
   "metadata": {},
   "outputs": [
    {
     "data": {
      "text/plain": [
       "0    56\n",
       "1     0\n",
       "2    77\n",
       "3    33\n",
       "4    16\n",
       "dtype: int32"
      ]
     },
     "execution_count": 3,
     "metadata": {},
     "output_type": "execute_result"
    }
   ],
   "source": [
    "rando_array = np.random.randint(0,100,5)\n",
    "rando_array = pd.Series(rando_array)\n",
    "rando_array"
   ]
  },
  {
   "cell_type": "markdown",
   "id": "a99c41a9",
   "metadata": {},
   "source": [
    "3. (4 pt) Create a dictionary containing 5 items whose keys needs to match the 5 strings from step 1.  \\\n",
    "For example: data_dict = {\"String1\": 10, \"String2\": 25, \"String3\": 15, \"String4\": 30, \"String5\": 20} \\\n",
    "Convert the resulting dictionary to a Data Series object. "
   ]
  },
  {
   "cell_type": "code",
   "execution_count": 4,
   "id": "b7c66ea0",
   "metadata": {},
   "outputs": [
    {
     "data": {
      "text/plain": [
       "This is a string          10\n",
       "This is also a string     25\n",
       "Yet another string        15\n",
       "Hey look, more strings    30\n",
       "wow, string, wow          20\n",
       "dtype: int64"
      ]
     },
     "execution_count": 4,
     "metadata": {},
     "output_type": "execute_result"
    }
   ],
   "source": [
    "data_dict = {\"This is a string\":10, \"This is also a string\":25, \"Yet another string\":15, \"Hey look, more strings\":30, \"wow, string, wow\":20}\n",
    "data_dict = pd.Series(data_dict)\n",
    "data_dict"
   ]
  },
  {
   "cell_type": "markdown",
   "id": "94f41523",
   "metadata": {},
   "source": [
    "4. (8 pt) Combine the Data Series objects from question 1, 2, and 3 to produce a Data Frame object.\n",
    "Please print the output.\\\n",
    "Must use [reset_index()](https://www.w3schools.com/python/pandas/ref_df_reset_index.asp) function for this step for full mark. It resets the index of the DataSeries object and uses the default one instead. Might be helpful to use the help() on reset_index() to view some of the parameters it offers."
   ]
  },
  {
   "cell_type": "code",
   "execution_count": null,
   "id": "dcceb242",
   "metadata": {},
   "outputs": [],
   "source": []
  },
  {
   "cell_type": "markdown",
   "id": "dfb18640",
   "metadata": {},
   "source": [
    "---"
   ]
  },
  {
   "cell_type": "markdown",
   "id": "e0ac9288",
   "metadata": {},
   "source": [
    "<div class=\"alert alert-block alert-info\">\n",
    "    <b><p style=\"font-size: XX-large\">Problem 2: Grades</p></b> </div>"
   ]
  },
  {
   "attachments": {
    "e69ec75d-6336-4432-80ca-997e5fc1099e.jpg": {
     "image/jpeg": "[encoded data removed]"
    },
    "fff1ca51-4f6c-4412-bdb3-f2693c7d14a5.jpg": {
     "image/jpeg": "[encoded data removed]"
    }
   },
   "cell_type": "markdown",
   "id": "91de78aa",
   "metadata": {},
   "source": [
    "\n",
    "\n",
    "Use the functions in the lecture notes or mentioned in hints. **Each questions in problem 2 should have no more than three lines of code.**\n",
    "\n",
    "1.(2 pt) Create a Data Frame object that looks like the following:\\\n",
    "![Q2P1.jpg](attachment:e69ec75d-6336-4432-80ca-997e5fc1099e.jpg)\\\n",
    "\n",
    "2.(2 pt) Set Subjects as the index. Hint - [set_index()](https://www.w3schools.com/python/pandas/ref_df_set_index.asp) sets one of the columns as the index rows. The result should look like this:![Q2P2.jpg](attachment:fff1ca51-4f6c-4412-bdb3-f2693c7d14a5.jpg)\\\n",
    "\n",
    "3.(4 pt) Use Selection by Label to select grades for Subject Math and English and print\\\n",
    "\n",
    "4.(4 pt) Use Selection by Label and slice object to select Subjects Math through English inclusively between the years 2019-2021 also inclusively and print.\\\n",
    "\n",
    "5.(4 pt) Use Selection by Position to select grades for Subject Math and English and print\\\n",
    "\n",
    "6.(4 pt) Use Selection by Position and slice object to select Subjects Math through English inclusively between the years 2019-2021 also inclusively and print. "
   ]
  },
  {
   "cell_type": "markdown",
   "id": "863b5fba",
   "metadata": {},
   "source": [
    "---"
   ]
  },
  {
   "cell_type": "markdown",
   "id": "b5794523",
   "metadata": {},
   "source": [
    "<div class=\"alert alert-block alert-info\">\n",
    "    <b><p style=\"font-size: XX-large\">Problem 3: Manipulating DataFram</p></b> </div>"
   ]
  },
  {
   "cell_type": "markdown",
   "id": "108416e7",
   "metadata": {},
   "source": [
    "\n",
    "Mind that each question uses result from the previous question. Using the resulting dataframe from Problem 2 Question 2, do the following:\n",
    "\n",
    "1.(4 pt) Use slicer object to give every single subject in year 2019 a +3 grade bump and print the resulting DataFrame.\\\n",
    "\n",
    "2.(4 pt) Change the grade on Math in Year 2021 to 95 and print the resulting DataFrame.\\\n",
    "\n",
    "3.(6 pt) Add another column to the DataFrame object to denote the mean across all years. [mean()](https://www.w3schools.com/python/ref_stat_mean.asp) function returns the average of the data and sort the rows (Subjects) by ascending order alphabetically.\\\n",
    "\n",
    "4.(2 pt) Print the lowest grade in 2020.\\\n",
    "\n",
    "5.(2 pt) Drop both Science and Arts and print the resulting DataFrame.\\\n",
    "\n",
    "6.(2 pt) Drop both year 2021 and print the resulting DataFrame.\n",
    "\n",
    "\n",
    "\n",
    "\n",
    "\n"
   ]
  },
  {
   "cell_type": "markdown",
   "id": "dc1be66f",
   "metadata": {},
   "source": [
    "----"
   ]
  },
  {
   "cell_type": "markdown",
   "id": "c6c1ce03",
   "metadata": {},
   "source": [
    "<div class=\"alert alert-block alert-info\">\n",
    "    <b><p style=\"font-size: XX-large\">Problem 4: CSV Data Analysis I</p></b> </div>"
   ]
  },
  {
   "cell_type": "markdown",
   "id": "f7b33361",
   "metadata": {},
   "source": [
    "\n",
    "1.(3 pt) Read from the attached IrisData.csv and print out the first 10 and the last 10 lines. For full remarks, must use the [head()](https://www.w3schools.com/python/pandas/ref_df_head.asp) and the [tail()](https://www.w3schools.com/python/pandas/ref_df_tail.asp) function which allows users to view the first x number and last x number of lines from the DataFrame.\\\n",
    "\n",
    "2.(3 pt) Use [info()](https://www.w3schools.com/python/pandas/ref_df_info.asp) function to get a glance at some information about the dataset, such as the class of the object, # number of rows and columns and column data types. Use [describe()](https://www.w3schools.com/python/pandas/ref_df_describe.asp) function to get a glance at the statistical metrics about the dataset.\\\n",
    "\n",
    "3.(10 pt) As you can probably see from the head() and the tail() output, there are rows with some values as null or NaN. Use [isnull()](https://www.w3schools.com/python/pandas/ref_df_isnull.asp) function to mask all missing values to true. Then use [any()](https://www.w3schools.com/python/ref_func_any.asp) function to filter out which entries have missing values. Lastly use the resulting boolean mask to select all the rows with at least one value missing.\\\n",
    "\n",
    "4.(4 pt) Drop all entries with missing values, and print out the resulting row count. Note that [len()](https://www.w3schools.com/python/ref_func_len.asp) gives the number of items in an object."
   ]
  },
  {
   "cell_type": "markdown",
   "id": "3d0d6129",
   "metadata": {},
   "source": [
    "----"
   ]
  },
  {
   "cell_type": "markdown",
   "id": "94c5a356",
   "metadata": {},
   "source": [
    "<div class=\"alert alert-block alert-info\">\n",
    "    <b><p style=\"font-size: XX-large\">Problem Set 5: CSV Data Analysis II</p></b> </div>"
   ]
  },
  {
   "cell_type": "markdown",
   "id": "cc64d2f2",
   "metadata": {},
   "source": [
    "\n",
    "Continued this problem with the Data Frame object produced at the end of Problem Set 4.\\\n",
    "\n",
    "1.(4 pt) Use [value_counts()](https://www.w3resource.com/pandas/series/series-value_counts.php) to determine which species shows up more frequently.\\\n",
    "\n",
    "2.(4 pt) Is there duplicated data in this DataFrame? Must use [duplicated()](https://www.w3schools.com/python/pandas/ref_df_duplicated.asp) function to show. Print duplicated rows.\\\n",
    "\n",
    "3.(4 pt) Filter data only have sepal_length greater than 5 sepal_width greater than 3\\\n",
    "\n",
    "4.(4 pt) Use [idxmax()](https://www.w3schools.com/python/pandas/ref_df_idxmax.asp) to determine the index with the highest of each column value. For example for sepal_length it should be 131.\\\n",
    "\n",
    "5.(4 pt) Use only the column with numeric value types to contruct a convariance and correlation matrix. Which column other than itself is most correlated to sepal_length. Hint - [cov()](https://www.w3schools.com/python/pandas/ref_df_cov.asp) and [corr()](https://www.w3schools.com/python/pandas/pandas_correlations.asp) can achieve it."
   ]
  },
  {
   "cell_type": "markdown",
   "id": "096c43a0",
   "metadata": {},
   "source": [
    "# Done!"
   ]
  }
 ],
 "metadata": {
  "kernelspec": {
   "display_name": "Python 3",
   "language": "python",
   "name": "python3"
  },
  "language_info": {
   "codemirror_mode": {
    "name": "ipython",
    "version": 3
   },
   "file_extension": ".py",
   "mimetype": "text/x-python",
   "name": "python",
   "nbconvert_exporter": "python",
   "pygments_lexer": "ipython3",
   "version": "3.12.0"
  },
  "toc": {
   "base_numbering": 1,
   "nav_menu": {},
   "number_sections": true,
   "sideBar": true,
   "skip_h1_title": true,
   "title_cell": "Table of Contents",
   "title_sidebar": "Contents",
   "toc_cell": false,
   "toc_position": {},
   "toc_section_display": true,
   "toc_window_display": false
  }
 },
 "nbformat": 4,
 "nbformat_minor": 5
}
